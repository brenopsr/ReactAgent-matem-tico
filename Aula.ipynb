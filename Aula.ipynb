{
  "nbformat": 4,
  "nbformat_minor": 0,
  "metadata": {
    "colab": {
      "provenance": []
    },
    "kernelspec": {
      "name": "python3",
      "display_name": "Python 3"
    },
    "language_info": {
      "name": "python"
    }
  },
  "cells": [
    {
      "cell_type": "code",
      "source": [
        "%pip install groq # Instalando o groq"
      ],
      "metadata": {
        "colab": {
          "base_uri": "https://localhost:8080/"
        },
        "id": "_Auz5Fh6XaHO",
        "outputId": "599ea53f-b1cc-4f64-cbac-7d16d35d75c3"
      },
      "execution_count": 1,
      "outputs": [
        {
          "output_type": "stream",
          "name": "stdout",
          "text": [
            "Collecting groq\n",
            "  Downloading groq-0.18.0-py3-none-any.whl.metadata (14 kB)\n",
            "Requirement already satisfied: anyio<5,>=3.5.0 in /usr/local/lib/python3.11/dist-packages (from groq) (3.7.1)\n",
            "Requirement already satisfied: distro<2,>=1.7.0 in /usr/local/lib/python3.11/dist-packages (from groq) (1.9.0)\n",
            "Requirement already satisfied: httpx<1,>=0.23.0 in /usr/local/lib/python3.11/dist-packages (from groq) (0.28.1)\n",
            "Requirement already satisfied: pydantic<3,>=1.9.0 in /usr/local/lib/python3.11/dist-packages (from groq) (2.10.6)\n",
            "Requirement already satisfied: sniffio in /usr/local/lib/python3.11/dist-packages (from groq) (1.3.1)\n",
            "Requirement already satisfied: typing-extensions<5,>=4.10 in /usr/local/lib/python3.11/dist-packages (from groq) (4.12.2)\n",
            "Requirement already satisfied: idna>=2.8 in /usr/local/lib/python3.11/dist-packages (from anyio<5,>=3.5.0->groq) (3.10)\n",
            "Requirement already satisfied: certifi in /usr/local/lib/python3.11/dist-packages (from httpx<1,>=0.23.0->groq) (2025.1.31)\n",
            "Requirement already satisfied: httpcore==1.* in /usr/local/lib/python3.11/dist-packages (from httpx<1,>=0.23.0->groq) (1.0.7)\n",
            "Requirement already satisfied: h11<0.15,>=0.13 in /usr/local/lib/python3.11/dist-packages (from httpcore==1.*->httpx<1,>=0.23.0->groq) (0.14.0)\n",
            "Requirement already satisfied: annotated-types>=0.6.0 in /usr/local/lib/python3.11/dist-packages (from pydantic<3,>=1.9.0->groq) (0.7.0)\n",
            "Requirement already satisfied: pydantic-core==2.27.2 in /usr/local/lib/python3.11/dist-packages (from pydantic<3,>=1.9.0->groq) (2.27.2)\n",
            "Downloading groq-0.18.0-py3-none-any.whl (121 kB)\n",
            "\u001b[2K   \u001b[90m━━━━━━━━━━━━━━━━━━━━━━━━━━━━━━━━━━━━━━━━\u001b[0m \u001b[32m121.9/121.9 kB\u001b[0m \u001b[31m2.3 MB/s\u001b[0m eta \u001b[36m0:00:00\u001b[0m\n",
            "\u001b[?25hInstalling collected packages: groq\n",
            "Successfully installed groq-0.18.0\n"
          ]
        }
      ]
    },
    {
      "cell_type": "code",
      "execution_count": 2,
      "metadata": {
        "id": "B-OcJ8tiNQYP"
      },
      "outputs": [],
      "source": [
        "import os\n",
        "\n",
        "os.environ['GROQ_API_KEY'] = \"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\" # Utilizando a chave da API que peguei no Groq"
      ]
    },
    {
      "cell_type": "code",
      "source": [
        "import os\n",
        "from groq import Groq # Importa a classe que nos permite interagir com a API do Groq\n",
        "\n",
        "client = Groq(\n",
        "    api_key=os.environ.get(\"GROQ_API_KEY\"),\n",
        ") # Inicializando o Groq e passando a minha chave ali de cima\n",
        "\n",
        "chat_completion = client.chat.completions.create(\n",
        "    messages=[\n",
        "        {\n",
        "            \"role\": \"user\",\n",
        "            \"content\": \"Explain the importance of fast language models\", # Passando as mensagens para o nosso modelo\n",
        "        }\n",
        "    ],\n",
        "    model=\"llama3-70b-8192\", # Definindo que modelo vamos utilizar\n",
        ")\n",
        "\n",
        "print(chat_completion.choices[0].message.content) # Aqui printamos a resposta que o modelo vai dar para o nosso prompt/mensagem que passamos para ele ali em cima"
      ],
      "metadata": {
        "colab": {
          "base_uri": "https://localhost:8080/"
        },
        "id": "6eruEGJ8XmQu",
        "outputId": "798c3e41-ca7d-45d2-9ba0-a07d1e6007df"
      },
      "execution_count": 3,
      "outputs": [
        {
          "output_type": "stream",
          "name": "stdout",
          "text": [
            "Fast language models are crucial in today's natural language processing (NLP) landscape, and their importance can be seen in various aspects:\n",
            "\n",
            "1. **Real-time Applications**: Fast language models enable real-time applications, such as chatbots, virtual assistants, and language translation systems, to respond quickly and efficiently to user inputs.\n",
            "2. **Improved User Experience**: Fast response times in language models lead to a more engaging and interactive user experience, increasing user satisfaction and loyalty.\n",
            "3. **Scalability**: Fast language models can handle large volumes of text data, making them scalable for applications that require processing massive amounts of text, such as social media monitoring or customer feedback analysis.\n",
            "4. **Efficient Inference**: Fast language models reduce the computational resources required for inference, making them more energy-efficient and cost-effective, especially in cloud-based or edge computing environments.\n",
            "5. **Low-Latency Edge AI**: Fast language models are essential for edge AI applications, where latency and real-time processing are critical, such as in autonomous vehicles, smart home devices, or wearable devices.\n",
            "6. **Conversational AI**: Fast language models are necessary for conversational AI applications, such as voice assistants, to provide quick and accurate responses, making conversations feel more natural and human-like.\n",
            "7. **Competitive Advantage**: Organizations that deploy fast language models can gain a competitive advantage by providing faster and more accurate services, leading to increased customer engagement and loyalty.\n",
            "8. **Research and Development**: Fast language models accelerate research and development in NLP, enabling researchers to experiment with larger models, more complex tasks, and faster iteration cycles.\n",
            "9. **Healthcare and Emergency Services**: Fast language models can be critical in healthcare and emergency services, where quick and accurate processing of medical texts, such as medical records or emergency calls, can save lives.\n",
            "10. **Edge Cases and Long-Tail Queries**: Fast language models can handle edge cases and long-tail queries more effectively, providing better support for niche languages, dialects, or specialized domains.\n",
            "11. **Multimodal Interactions**: Fast language models enable seamless multimodal interactions, where users can switch between text, speech, or visual inputs, creating a more flexible and natural human-machine interface.\n",
            "12. **Cybersecurity**: Fast language models can help detect and respond to cyber threats in real-time, making them an essential component of cybersecurity systems.\n",
            "\n",
            "In summary, fast language models are vital for building efficient, scalable, and responsive NLP systems that can handle real-time applications, provide improved user experiences, and support critical use cases.\n"
          ]
        }
      ]
    },
    {
      "cell_type": "code",
      "source": [
        "class Agent:\n",
        "  def __init__(self, client, system):\n",
        "    self.client =  client # Inicializando o cliente\n",
        "    self.system = system # Inicializando a mensagem do sistema para o modelo entender como ele deve trabalhar em loop\n",
        "    self.messages = [] # Lista de mensagens que vamos passar\n",
        "    if self.system is not None: # Se a mensagem não for vazia nos vamos adiciona-la na nossa lista\n",
        "      self.messages.append({\"role\":\"system\", \"content\": self.system})\n",
        "\n",
        "  def __call__(self, message=\"\"):\n",
        "      if message: # Vai ser ativado sempre que o nosso agente for chamado\n",
        "        self.messages.append({\"role\":\"user\", \"content\": message}) # Se receber uma mensagem vai adiciona-la na lista\n",
        "      result = self.execute() # Depois de receber a mensagem vamos executar o agente com todas as mensagens da nossa lista\n",
        "      self.messages.append({\"role\":\"assistant\", \"content\": result}) # Depois vai adicionar o resultado na nossa lista\n",
        "      return result # E por fim retornar o resultado para gente\n",
        "\n",
        "  def execute(self): # Método de execução que usamos no método anterior após recebermos a mensagem\n",
        "      completion = client.chat.completions.create(\n",
        "          messages= self.messages ,\n",
        "          model=\"llama3-70b-8192\", # Definindo que modelo vamos utilizar\n",
        "      )\n",
        "      return completion.choices[0].message.content"
      ],
      "metadata": {
        "collapsed": true,
        "id": "hRje8GO1Z0zI"
      },
      "execution_count": 4,
      "outputs": []
    },
    {
      "cell_type": "code",
      "source": [
        "system_prompt  = \"\"\"\n",
        "You run in a loop of Thought, Action, PAUSE, Observation.\n",
        "At the end of the loop you output an Answer\n",
        "Use Thought to describe your thoughts about the question you have been asked.\n",
        "Use Action to run one of the actions available to you - then return PAUSE.\n",
        "Observation will be the result of running those actions.\n",
        "\n",
        "Your available actions are:\n",
        "\n",
        "calculate:\n",
        "e.g. calculate: 4 * 7 / 3\n",
        "Runs a calculation and returns the number - uses Python so be sure to use floating point syntax if necessary\n",
        "\n",
        "get_planet_mass:\n",
        "e.g. get_planet_mass: Earth\n",
        "returns weight of the planet in kg\n",
        "\n",
        "Example session:\n",
        "\n",
        "Question: What is the mass of Earth times 2?\n",
        "Thought: I need to find the mass of Earth\n",
        "Action: get_planet_mass: Earth\n",
        "PAUSE\n",
        "\n",
        "You will be called again with this:\n",
        "\n",
        "Observation: 5.9736e+24\n",
        "\n",
        "Thought: I need to multiply this by 2\n",
        "Action: calculate: 5.9736e+24 * 2\n",
        "PAUSE\n",
        "\n",
        "You will be called again with this:\n",
        "\n",
        "Observation: 1,1944e+25\n",
        "\n",
        "If you have the answer, output it as the Answer.\n",
        "\n",
        "Answer: The mass of the Earth times 2 is 1,1944x10e25\n",
        "\n",
        "Now it's your turn:\n",
        "\"\"\".strip()\n",
        "\n",
        "# Esse o prompt do sistema que vai fazer o agente entender como ele deve se comportar para seguir o loop"
      ],
      "metadata": {
        "id": "x0UPqOjqRsCx"
      },
      "execution_count": 5,
      "outputs": []
    },
    {
      "cell_type": "code",
      "source": [
        "# Ferramentas\n",
        "def calculate(operation):\n",
        "  return eval(operation) # Ferramenta padrão de calculadora\n",
        "\n",
        "def get_planet_mass(planet) -> float:\n",
        " match planet.lower():\n",
        "    case \"earth\":\n",
        "      return 5.9736e+24 # Ferramenta para termos as massas dos planetas sem termos que pesquisar na internet, tipo um banco de dados\n",
        "    case \"jupiter\":\n",
        "      return 1.898e27\n",
        "    case \"mars\":\n",
        "      return 6.39e23\n",
        "    case \"mercury\":\n",
        "      return 3.285e23\n",
        "    case \"neptune\":\n",
        "      return 1.024e26\n",
        "    case \"saturn\":\n",
        "      return 5.685e26\n",
        "    case \"uranus\":\n",
        "      return 8.683e25\n",
        "    case \"venus\":\n",
        "      return 4.868e24"
      ],
      "metadata": {
        "id": "I-VXGE8BTWlr"
      },
      "execution_count": 6,
      "outputs": []
    },
    {
      "cell_type": "code",
      "source": [
        "neil_tyson = Agent(client, system_prompt) # Instância do nosso agente"
      ],
      "metadata": {
        "id": "9K9yuWy-VY4L"
      },
      "execution_count": 7,
      "outputs": []
    },
    {
      "cell_type": "markdown",
      "source": [
        "**RODANDO O AGENTE MANUALMENTE NAS PRÓXIMAS CÉLULAS**\n"
      ],
      "metadata": {
        "id": "jIshjdCBKUDl"
      }
    },
    {
      "cell_type": "code",
      "source": [
        "result = neil_tyson(\"What is the mass of Earth times 5?\") # Dando um prompt teste para o agente\n",
        "print(result) # Printando o resultado para vermos se está tudo de acordo"
      ],
      "metadata": {
        "colab": {
          "base_uri": "https://localhost:8080/"
        },
        "id": "MK3hBthkXvXP",
        "outputId": "d3a3c952-2e43-4582-f698-dbc0281b933f"
      },
      "execution_count": 8,
      "outputs": [
        {
          "output_type": "stream",
          "name": "stdout",
          "text": [
            "Thought: I need to find the mass of Earth.\n"
          ]
        }
      ]
    },
    {
      "cell_type": "code",
      "source": [
        "neil_tyson.messages # Aqui é um log das mensagens que o agente recebe e os pensamentos que ele cria"
      ],
      "metadata": {
        "colab": {
          "base_uri": "https://localhost:8080/"
        },
        "id": "VYKteLatYKoi",
        "outputId": "cbb83a1c-99cb-4eaf-a891-d8f30421eede"
      },
      "execution_count": 9,
      "outputs": [
        {
          "output_type": "execute_result",
          "data": {
            "text/plain": [
              "[{'role': 'system',\n",
              "  'content': \"You run in a loop of Thought, Action, PAUSE, Observation.\\nAt the end of the loop you output an Answer\\nUse Thought to describe your thoughts about the question you have been asked.\\nUse Action to run one of the actions available to you - then return PAUSE.\\nObservation will be the result of running those actions.\\n\\nYour available actions are:\\n\\ncalculate:\\ne.g. calculate: 4 * 7 / 3\\nRuns a calculation and returns the number - uses Python so be sure to use floating point syntax if necessary\\n\\nget_planet_mass:\\ne.g. get_planet_mass: Earth\\nreturns weight of the planet in kg\\n\\nExample session:\\n\\nQuestion: What is the mass of Earth times 2?\\nThought: I need to find the mass of Earth\\nAction: get_planet_mass: Earth\\nPAUSE\\n\\nYou will be called again with this:\\n\\nObservation: 5.9736e+24\\n\\nThought: I need to multiply this by 2\\nAction: calculate: 5.9736e+24 * 2\\nPAUSE\\n\\nYou will be called again with this:\\n\\nObservation: 1,1944e+25\\n\\nIf you have the answer, output it as the Answer.\\n\\nAnswer: The mass of the Earth times 2 is 1,1944x10e25\\n\\nNow it's your turn:\"},\n",
              " {'role': 'user', 'content': 'What is the mass of Earth times 5?'},\n",
              " {'role': 'assistant',\n",
              "  'content': 'Thought: I need to find the mass of Earth.'}]"
            ]
          },
          "metadata": {},
          "execution_count": 9
        }
      ]
    },
    {
      "cell_type": "code",
      "source": [
        "result = neil_tyson() # Aqui ele vai definir que ação ele deve tomar\n",
        "print(result) # Printamos para conferir se está tudo certo"
      ],
      "metadata": {
        "colab": {
          "base_uri": "https://localhost:8080/"
        },
        "id": "ArDVtc_GYSXH",
        "outputId": "afd5a04f-564c-4c9e-bdac-5e1a89de8043"
      },
      "execution_count": 11,
      "outputs": [
        {
          "output_type": "stream",
          "name": "stdout",
          "text": [
            "Action: get_planet_mass: Earth\n",
            "PAUSE\n"
          ]
        }
      ]
    },
    {
      "cell_type": "code",
      "source": [
        "observation = get_planet_mass(\"Earth\") # Como ainda não criamos o loop já damos a resposta da ação dele diretamente para ele\n",
        "print(observation) # Printamos para conferir se está tudo certo"
      ],
      "metadata": {
        "colab": {
          "base_uri": "https://localhost:8080/"
        },
        "id": "b5PPChhwaJA5",
        "outputId": "7fbe1f35-44b8-42bd-cebc-b7160394bb6f"
      },
      "execution_count": 12,
      "outputs": [
        {
          "output_type": "stream",
          "name": "stdout",
          "text": [
            "5.9736e+24\n"
          ]
        }
      ]
    },
    {
      "cell_type": "code",
      "source": [
        "next_prompt = f\"Observation:{observation}\"\n",
        "result = neil_tyson(next_prompt) # Dando a observação para o agente\n",
        "print(result) # Printamos para conferir se está tudo certo"
      ],
      "metadata": {
        "colab": {
          "base_uri": "https://localhost:8080/"
        },
        "id": "MCCQVVZCaZWr",
        "outputId": "788282bf-bcbe-4236-eb80-270e6f124f66"
      },
      "execution_count": 13,
      "outputs": [
        {
          "output_type": "stream",
          "name": "stdout",
          "text": [
            "Thought: I need to multiply this by 5\n"
          ]
        }
      ]
    },
    {
      "cell_type": "code",
      "source": [
        "neil_tyson.messages # Conferindo o log para termos certeza que o loop está de acordo, Thought, Action e Observation."
      ],
      "metadata": {
        "colab": {
          "base_uri": "https://localhost:8080/"
        },
        "id": "Y8yuCo2zarpd",
        "outputId": "5ad84482-9047-41ee-b562-9ad3a0ff885c"
      },
      "execution_count": 14,
      "outputs": [
        {
          "output_type": "execute_result",
          "data": {
            "text/plain": [
              "[{'role': 'system',\n",
              "  'content': \"You run in a loop of Thought, Action, PAUSE, Observation.\\nAt the end of the loop you output an Answer\\nUse Thought to describe your thoughts about the question you have been asked.\\nUse Action to run one of the actions available to you - then return PAUSE.\\nObservation will be the result of running those actions.\\n\\nYour available actions are:\\n\\ncalculate:\\ne.g. calculate: 4 * 7 / 3\\nRuns a calculation and returns the number - uses Python so be sure to use floating point syntax if necessary\\n\\nget_planet_mass:\\ne.g. get_planet_mass: Earth\\nreturns weight of the planet in kg\\n\\nExample session:\\n\\nQuestion: What is the mass of Earth times 2?\\nThought: I need to find the mass of Earth\\nAction: get_planet_mass: Earth\\nPAUSE\\n\\nYou will be called again with this:\\n\\nObservation: 5.9736e+24\\n\\nThought: I need to multiply this by 2\\nAction: calculate: 5.9736e+24 * 2\\nPAUSE\\n\\nYou will be called again with this:\\n\\nObservation: 1,1944e+25\\n\\nIf you have the answer, output it as the Answer.\\n\\nAnswer: The mass of the Earth times 2 is 1,1944x10e25\\n\\nNow it's your turn:\"},\n",
              " {'role': 'user', 'content': 'What is the mass of Earth times 5?'},\n",
              " {'role': 'assistant',\n",
              "  'content': 'Thought: I need to find the mass of Earth.'},\n",
              " {'role': 'assistant', 'content': ''},\n",
              " {'role': 'assistant', 'content': 'Action: get_planet_mass: Earth\\nPAUSE'},\n",
              " {'role': 'user', 'content': 'Observation:5.9736e+24'},\n",
              " {'role': 'assistant', 'content': 'Thought: I need to multiply this by 5'}]"
            ]
          },
          "metadata": {},
          "execution_count": 14
        }
      ]
    },
    {
      "cell_type": "code",
      "source": [
        "result = neil_tyson() # Esperamos a próxima ação\n",
        "print(result) # Printamos para conferir se está tudo certo"
      ],
      "metadata": {
        "colab": {
          "base_uri": "https://localhost:8080/"
        },
        "id": "mpAXZQx4axT3",
        "outputId": "ae56e847-0bea-4f5e-a4cf-3eaa8f22eabd"
      },
      "execution_count": 16,
      "outputs": [
        {
          "output_type": "stream",
          "name": "stdout",
          "text": [
            "Action: calculate: 5.9736e+24 * 5\n",
            "PAUSE\n"
          ]
        }
      ]
    },
    {
      "cell_type": "code",
      "source": [
        "observation = calculate(\"5.9736e24 * 5\") # Criando a observação para ele\n",
        "print(observation) # Printamos para conferir se está tudo certo"
      ],
      "metadata": {
        "colab": {
          "base_uri": "https://localhost:8080/"
        },
        "id": "IJ3XU5xVa1eF",
        "outputId": "b47e56bb-5661-4eb1-9528-bb6825a70892"
      },
      "execution_count": 17,
      "outputs": [
        {
          "output_type": "stream",
          "name": "stdout",
          "text": [
            "2.9868e+25\n"
          ]
        }
      ]
    },
    {
      "cell_type": "code",
      "source": [
        "next_prompt = f\"Observation:{observation}\"\n",
        "result = neil_tyson(next_prompt) # Colocando a observação nele\n",
        "print(result) # Printamos para conferir se está tudo certo"
      ],
      "metadata": {
        "colab": {
          "base_uri": "https://localhost:8080/"
        },
        "id": "TuiWmrija-GJ",
        "outputId": "4d21aea3-ba21-4f24-c9e4-7e8f24becad3"
      },
      "execution_count": 18,
      "outputs": [
        {
          "output_type": "stream",
          "name": "stdout",
          "text": [
            "Answer: The mass of the Earth times 5 is 2.9868e+25\n"
          ]
        }
      ]
    },
    {
      "cell_type": "code",
      "source": [
        "neil_tyson.messages # Conferindo o log pela última vez"
      ],
      "metadata": {
        "colab": {
          "base_uri": "https://localhost:8080/"
        },
        "id": "eyvH7zdHbCcz",
        "outputId": "cbac36db-8ec2-4115-c282-bcb822b15c82"
      },
      "execution_count": 19,
      "outputs": [
        {
          "output_type": "execute_result",
          "data": {
            "text/plain": [
              "[{'role': 'system',\n",
              "  'content': \"You run in a loop of Thought, Action, PAUSE, Observation.\\nAt the end of the loop you output an Answer\\nUse Thought to describe your thoughts about the question you have been asked.\\nUse Action to run one of the actions available to you - then return PAUSE.\\nObservation will be the result of running those actions.\\n\\nYour available actions are:\\n\\ncalculate:\\ne.g. calculate: 4 * 7 / 3\\nRuns a calculation and returns the number - uses Python so be sure to use floating point syntax if necessary\\n\\nget_planet_mass:\\ne.g. get_planet_mass: Earth\\nreturns weight of the planet in kg\\n\\nExample session:\\n\\nQuestion: What is the mass of Earth times 2?\\nThought: I need to find the mass of Earth\\nAction: get_planet_mass: Earth\\nPAUSE\\n\\nYou will be called again with this:\\n\\nObservation: 5.9736e+24\\n\\nThought: I need to multiply this by 2\\nAction: calculate: 5.9736e+24 * 2\\nPAUSE\\n\\nYou will be called again with this:\\n\\nObservation: 1,1944e+25\\n\\nIf you have the answer, output it as the Answer.\\n\\nAnswer: The mass of the Earth times 2 is 1,1944x10e25\\n\\nNow it's your turn:\"},\n",
              " {'role': 'user', 'content': 'What is the mass of Earth times 5?'},\n",
              " {'role': 'assistant',\n",
              "  'content': 'Thought: I need to find the mass of Earth.'},\n",
              " {'role': 'assistant', 'content': ''},\n",
              " {'role': 'assistant', 'content': 'Action: get_planet_mass: Earth\\nPAUSE'},\n",
              " {'role': 'user', 'content': 'Observation:5.9736e+24'},\n",
              " {'role': 'assistant', 'content': 'Thought: I need to multiply this by 5'},\n",
              " {'role': 'assistant', 'content': ''},\n",
              " {'role': 'assistant', 'content': 'Action: calculate: 5.9736e+24 * 5\\nPAUSE'},\n",
              " {'role': 'user', 'content': 'Observation:2.9868e+25'},\n",
              " {'role': 'assistant',\n",
              "  'content': 'Answer: The mass of the Earth times 5 is 2.9868e+25'}]"
            ]
          },
          "metadata": {},
          "execution_count": 19
        }
      ]
    },
    {
      "cell_type": "code",
      "source": [
        "import re # Criando o loop do agente\n",
        "\n",
        "def agent_loop(max_iterations, system, query):\n",
        "  agent = Agent(client, system_prompt) # Inicilizando o agente\n",
        "  tools = ['calculate', 'get_planet_mass'] # Inicilizando as ferramentas que temos\n",
        "  next_prompt = query # Definimos o primeiro prompt como pedido que vamos mandar para o loop do agente\n",
        "  i = 0\n",
        "  while i < max_iterations: # Iniciando o loop\n",
        "    i += 1\n",
        "    result = agent(next_prompt) # Chamando o agente\n",
        "    print(result) # Printando o resultado para análise\n",
        "\n",
        "    if \"PAUSE\" in result and \"Action\" in result: # Se o resultado tiver PAUSE e AÇÃO\n",
        "      action = re.findall(r\"Action: ([a-z_]+): (.+)\", result, re.IGNORECASE) # Nós encontramos o nome da ação e os parâmetros com essa linha de código\n",
        "      chosen_tool = action[0][0] # Organizando a ferramenta selecionada\n",
        "      arg = action[0][1] # Organizado o parâmetro encontrado\n",
        "\n",
        "      if chosen_tool in tools: # Se a ferramenta estiver entre as que nós temos\n",
        "        result_tool = eval(f\"{chosen_tool}('{arg}')\") # Usamos e ferramenta e temos o resultado dela\n",
        "        next_prompt = f\"Observation: {result_tool}\" # Que é analisado nessa observação\n",
        "\n",
        "      else:\n",
        "        next_prompt = \"Observation: Tool not found\" # Se não tivermos a ferramenta vamos dizer que não encontramos a ferramenta para que o sistema procure outra correta\n",
        "\n",
        "      print(next_prompt) # Printamos para sabermos o que está acontecendo\n",
        "      continue # Continua a fazer mais iterações\n",
        "\n",
        "    if \"Answer\" in result: # Se o agente tiver \"resposta\" no seu resultado nós paramos o loop\n",
        "      break\n"
      ],
      "metadata": {
        "id": "aSyJiCRgbK2s"
      },
      "execution_count": 20,
      "outputs": []
    },
    {
      "cell_type": "code",
      "source": [
        "agent_loop(max_iterations=10, system=system_prompt, query=\"What is the mass of the Earth plus the mass of Mercury and all of it times 5?\") # Implementando o loop do agente criado"
      ],
      "metadata": {
        "colab": {
          "base_uri": "https://localhost:8080/"
        },
        "id": "6eEdEEo9gMvJ",
        "outputId": "07ea5c2b-5814-485f-aecc-cca17159bb75"
      },
      "execution_count": 23,
      "outputs": [
        {
          "output_type": "stream",
          "name": "stdout",
          "text": [
            "Thought: I need to find the mass of Earth and Mercury, then add them together and multiply by 5.\n",
            "Action: get_planet_mass: Earth\n",
            "PAUSE\n",
            "Observation: 5.9736e+24\n",
            "Thought: Now I have the mass of Earth, I need to get the mass of Mercury.\n",
            "Action: get_planet_mass: Mercury\n",
            "PAUSE\n",
            "Observation: 3.285e+23\n",
            "Thought: Now I have the masses of both Earth and Mercury, I need to add them together.\n",
            "Action: calculate: 5.9736e+24 + 3.285e+23\n",
            "PAUSE\n",
            "Observation: 6.3021e+24\n",
            "Thought: Now I have the sum of the masses of Earth and Mercury, I need to multiply it by 5.\n",
            "Action: calculate: 6.3021e+24 * 5\n",
            "PAUSE\n",
            "Observation: 3.15105e+25\n",
            "Answer: The mass of the Earth plus the mass of Mercury and all of it times 5 is 3.15105e+25.\n"
          ]
        }
      ]
    }
  ]
}